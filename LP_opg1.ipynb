{
 "cells": [
  {
   "cell_type": "code",
   "execution_count": 7,
   "metadata": {},
   "outputs": [
    {
     "name": "stdout",
     "output_type": "stream",
     "text": [
      "Requirement already satisfied: pulp in /Library/Frameworks/Python.framework/Versions/3.11/lib/python3.11/site-packages (2.7.0)\n",
      "\n",
      "\u001b[1m[\u001b[0m\u001b[34;49mnotice\u001b[0m\u001b[1;39;49m]\u001b[0m\u001b[39;49m A new release of pip is available: \u001b[0m\u001b[31;49m23.1.2\u001b[0m\u001b[39;49m -> \u001b[0m\u001b[32;49m23.2.1\u001b[0m\n",
      "\u001b[1m[\u001b[0m\u001b[34;49mnotice\u001b[0m\u001b[1;39;49m]\u001b[0m\u001b[39;49m To update, run: \u001b[0m\u001b[32;49mpip3 install --upgrade pip\u001b[0m\n"
     ]
    }
   ],
   "source": [
    "!pip3 install pulp"
   ]
  },
  {
   "cell_type": "code",
   "execution_count": 9,
   "metadata": {},
   "outputs": [],
   "source": [
    "import pulp"
   ]
  },
  {
   "cell_type": "code",
   "execution_count": 131,
   "metadata": {},
   "outputs": [
    {
     "name": "stdout",
     "output_type": "stream",
     "text": [
      "Welcome to the CBC MILP Solver \n",
      "Version: 2.10.3 \n",
      "Build Date: Dec 15 2019 \n",
      "\n",
      "command line - /Library/Frameworks/Python.framework/Versions/3.11/lib/python3.11/site-packages/pulp/solverdir/cbc/osx/64/cbc /var/folders/fp/6fd8hwdx18z6pbm4tp805qzh0000gn/T/154604fc5d134d2190b7ac0e595c6ec3-pulp.mps timeMode elapsed branch printingOptions all solution /var/folders/fp/6fd8hwdx18z6pbm4tp805qzh0000gn/T/154604fc5d134d2190b7ac0e595c6ec3-pulp.sol (default strategy 1)\n",
      "At line 2 NAME          MODEL\n",
      "At line 3 ROWS\n",
      "At line 30 COLUMNS\n",
      "At line 144 RHS\n",
      "At line 170 BOUNDS\n",
      "At line 186 ENDATA\n",
      "Problem MODEL has 25 rows, 15 columns and 73 elements\n",
      "Coin0008I MODEL read with 0 errors\n",
      "Option for timeMode changed from cpu to elapsed\n",
      "Continuous objective value is 1.13886e+07 - 0.00 seconds\n",
      "Cgl0003I 0 fixed, 8 tightened bounds, 0 strengthened rows, 0 substitutions\n",
      "Cgl0003I 0 fixed, 8 tightened bounds, 0 strengthened rows, 0 substitutions\n",
      "Cgl0003I 0 fixed, 7 tightened bounds, 0 strengthened rows, 0 substitutions\n",
      "Cgl0003I 0 fixed, 2 tightened bounds, 0 strengthened rows, 0 substitutions\n",
      "Cgl0004I processed model has 2 rows, 4 columns (4 integer (0 of which binary)) and 5 elements\n",
      "Cutoff increment increased from 1e-05 to 200\n",
      "Cbc0012I Integer solution of 11416800 found by DiveCoefficient after 85 iterations and 0 nodes (0.03 seconds)\n",
      "Cbc0031I 2 added rows had average density of 3\n",
      "Cbc0013I At root node, 2 cuts changed objective from 11392596 to 11400126 in 100 passes\n",
      "Cbc0014I Cut generator 0 (Probing) - 0 row cuts average 0.0 elements, 0 column cuts (0 active)  in 0.001 seconds - new frequency is -100\n",
      "Cbc0014I Cut generator 1 (Gomory) - 142 row cuts average 2.7 elements, 0 column cuts (0 active)  in 0.001 seconds - new frequency is 1\n",
      "Cbc0014I Cut generator 2 (Knapsack) - 0 row cuts average 0.0 elements, 0 column cuts (0 active)  in 0.001 seconds - new frequency is -100\n",
      "Cbc0014I Cut generator 3 (Clique) - 0 row cuts average 0.0 elements, 0 column cuts (0 active)  in 0.000 seconds - new frequency is -100\n",
      "Cbc0014I Cut generator 4 (MixedIntegerRounding2) - 0 row cuts average 0.0 elements, 0 column cuts (0 active)  in 0.000 seconds - new frequency is -100\n",
      "Cbc0014I Cut generator 5 (FlowCover) - 0 row cuts average 0.0 elements, 0 column cuts (0 active)  in 0.001 seconds - new frequency is -100\n",
      "Cbc0014I Cut generator 6 (TwoMirCuts) - 14 row cuts average 2.6 elements, 0 column cuts (0 active)  in 0.001 seconds - new frequency is -100\n",
      "Cbc0010I After 0 nodes, 1 on tree, 11416800 best solution, best possible 11400126 (0.04 seconds)\n",
      "Cbc0001I Search completed - best objective 11416800, took 192 iterations and 14 nodes (0.05 seconds)\n",
      "Cbc0032I Strong branching done 36 times (32 iterations), fathomed 2 nodes and fixed 0 variables\n",
      "Cbc0035I Maximum depth 4, 0 variables fixed on reduced cost\n",
      "Cuts at root node changed objective from 1.13926e+07 to 1.14001e+07\n",
      "Probing was tried 100 times and created 0 cuts of which 0 were active after adding rounds of cuts (0.001 seconds)\n",
      "Gomory was tried 161 times and created 225 cuts of which 0 were active after adding rounds of cuts (0.002 seconds)\n",
      "Knapsack was tried 100 times and created 0 cuts of which 0 were active after adding rounds of cuts (0.001 seconds)\n",
      "Clique was tried 100 times and created 0 cuts of which 0 were active after adding rounds of cuts (0.000 seconds)\n",
      "MixedIntegerRounding2 was tried 100 times and created 0 cuts of which 0 were active after adding rounds of cuts (0.000 seconds)\n",
      "FlowCover was tried 100 times and created 0 cuts of which 0 were active after adding rounds of cuts (0.001 seconds)\n",
      "TwoMirCuts was tried 100 times and created 14 cuts of which 0 were active after adding rounds of cuts (0.001 seconds)\n",
      "ZeroHalf was tried 1 times and created 0 cuts of which 0 were active after adding rounds of cuts (0.000 seconds)\n",
      "\n",
      "Result - Optimal solution found\n",
      "\n",
      "Objective value:                11416800.00000000\n",
      "Enumerated nodes:               14\n",
      "Total iterations:               192\n",
      "Time (CPU seconds):             0.02\n",
      "Time (Wallclock seconds):       0.05\n",
      "\n",
      "Option for printingOptions changed from normal to all\n",
      "Total time (CPU seconds):       0.02   (Wallclock seconds):       0.05\n",
      "\n"
     ]
    }
   ],
   "source": [
    "shipping_problem = pulp.LpProblem(name = \"shipping_problem\", sense = pulp.LpMinimize)\n",
    "MY_DESTINATIONS = {\n",
    "    0: \"Mombasa\",\n",
    "    1: \"Zanzibar\",\n",
    "    2: \"Victoria\",\n",
    "    3: \"Salalah\",\n",
    "    4: \"Mombasa\",\n",
    "}\n",
    "PRICES = [600, 900, 1100, 1200, 600]\n",
    "FUEL_USAGE = [700, 1800, 2200, 2800]\n",
    "MINIMUM_TANK_AMOUNT = [1000, 1200, 1800, 2800, 1000]\n",
    "MAXIMUM_TANK_AMOUNT = [7000, 7000, 7000, 7000, 7000]\n",
    "TANK_ONE = [0, 0, 0, 0, 0]\n",
    "TANK_TWO = [0, 0, 0, 0, 0]\n",
    "FIXED_COSTS = [2000000, 1000000, 4000000, 3000000, 0]\n",
    "\n",
    "SAILING_DAYS = [0, 2, 6, 6, 7]\n",
    "\n",
    "# Variables\n",
    "s1 = pulp.LpVariable.dict(name = \"s1\", indices=MY_DESTINATIONS.keys(), lowBound = 0, cat = \"Integer\", upBound = 3500)\n",
    "s2 = pulp.LpVariable.dict(name = \"s2\", indices=MY_DESTINATIONS.keys(), lowBound = 0, cat = \"Integer\", upBound = 3500)\n",
    "h_xs = pulp.LpVariable.dict(name = \"h_xs\", indices=MY_DESTINATIONS.keys(), lowBound = 0, cat = \"Integer\", upBound = 7000)\n",
    "# Objective function\n",
    "shipping_problem += sum((FIXED_COSTS[i] +(PRICES[i] * (s1[i] + s2[i]))) for i in range(len(PRICES))), \"Objective Function\"\n",
    "\n",
    "# Constraints\n",
    "# Eq 5 and 1\n",
    "for i in range(len(FUEL_USAGE)):\n",
    "    # Eq 2\n",
    "    if i == 0:\n",
    "        shipping_problem += h_xs[i] == (s1[i] + s2[i]) * (1+SAILING_DAYS[i]*0.01), f\"Eq2 for {MY_DESTINATIONS[i]}\"\n",
    "    else:\n",
    "        shipping_problem += h_xs[i] == h_xs[i-1] + (s1[i-1] + s2[i-1])  - FUEL_USAGE[i-1], f\"Eq 2 for {MY_DESTINATIONS[i]}\"\n",
    "    shipping_problem += s1[i] + s2[i] >= MINIMUM_TANK_AMOUNT[i], f\"Minimum tank amount constraint for {MY_DESTINATIONS[i]}\"\n",
    "    shipping_problem += s1[i] + s2[i] <= MAXIMUM_TANK_AMOUNT[i], f\"Maximum tank amount constraint for {MY_DESTINATIONS[i]}\"\n",
    "    # Eq 1\n",
    "    shipping_problem += s1[i] + s2[i] <= h_xs, f\"Eq 1 for {MY_DESTINATIONS[i]}\"\n",
    "    # Eq 4\n",
    "    shipping_problem += h_xs[i] >= MINIMUM_TANK_AMOUNT[i] + FUEL_USAGE[i] * 3/2, f\"Eq 4 for {MY_DESTINATIONS[i]}\"\n",
    "    # Problem 14\n",
    "    shipping_problem += s1[i] == s2[i], f\"Problem 14 for {MY_DESTINATIONS[i]}\"\n",
    "    s1[i] *= (1-SAILING_DAYS[i]*0.01)\n",
    "    s2[i] *= (1-SAILING_DAYS[i]*0.01)\n",
    "\n",
    "# Solve the problem\n",
    "shipping_problem += s1[3] + s2[3] >= 1000 + FUEL_USAGE[3]\n",
    "status = shipping_problem.solve()"
   ]
  },
  {
   "cell_type": "code",
   "execution_count": 92,
   "metadata": {},
   "outputs": [
    {
     "name": "stdout",
     "output_type": "stream",
     "text": [
      "| h[0] = 3650.0 | f[0] = 700 | l[1,0] = 1825.0 | l[2,0] = 1825.0 | \n",
      "\n",
      "| h[1] = 6600.0 | f[1] = 1800 | l[1,1] = 600.0 | l[2,1] = 600.0 | \n",
      "\n",
      "| h[2] = 6000.0 | f[2] = 2200 | l[1,2] = 900.0 | l[2,2] = 900.0 | \n",
      "\n",
      "| h[3] = 5600.0 | f[3] = 2800 | l[1,3] = 1900.0 | l[2,3] = 1900.0 | \n",
      "\n"
     ]
    }
   ],
   "source": [
    "for i in range(len(FUEL_USAGE)):\n",
    "  print(f\"| h[{i}] = {h_xs[i].value()} | f[{i}] = {FUEL_USAGE[i]} | l[1,{i}] = {s1[i].value()} | l[2,{i}] = {s2[i].value()} | \\n\")\n"
   ]
  },
  {
   "cell_type": "code",
   "execution_count": 50,
   "metadata": {},
   "outputs": [
    {
     "data": {
      "text/plain": [
       "'Zanzibar'"
      ]
     },
     "execution_count": 50,
     "metadata": {},
     "output_type": "execute_result"
    }
   ],
   "source": [
    "MY_DESTINATIONS[(4+1) % 4]"
   ]
  }
 ],
 "metadata": {
  "kernelspec": {
   "display_name": "base",
   "language": "python",
   "name": "python3"
  },
  "language_info": {
   "codemirror_mode": {
    "name": "ipython",
    "version": 3
   },
   "file_extension": ".py",
   "mimetype": "text/x-python",
   "name": "python",
   "nbconvert_exporter": "python",
   "pygments_lexer": "ipython3",
   "version": "3.11.4"
  },
  "orig_nbformat": 4
 },
 "nbformat": 4,
 "nbformat_minor": 2
}
